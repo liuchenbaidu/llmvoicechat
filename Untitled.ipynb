{
 "cells": [
  {
   "cell_type": "code",
   "execution_count": 13,
   "id": "1c6d3992-f3d7-40c9-ae49-95ca33f2b711",
   "metadata": {},
   "outputs": [
    {
     "name": "stdout",
     "output_type": "stream",
     "text": [
      "<Response [200]>\n"
     ]
    }
   ],
   "source": [
    "import requests\n",
    "\n",
    "url = 'https://example.com/api'\n",
    "data = {'key1': 'value1', 'key2': 'value2'}\n",
    "url =\"http://10.250.115.90:8000/v1/audio/speech\"\n",
    "\n",
    "\n",
    "data = {\n",
    "  \"input\": \"你好\",\n",
    "  \"voice\": \"8051\",\n",
    "  \"prompt\": \"开心\",\n",
    "  \"language\": \"zh_us\",\n",
    "  \"model\": \"emoti-voice\",\n",
    "  \"response_format\": \"mp3\",\n",
    "  \"speed\": 1\n",
    "}\n",
    "\n",
    "# response = requests.post(url, data=data)\n",
    "headers = {'content-type': 'application/json'}\n",
    "ret = requests.post(url, json=data, headers=headers, timeout=10)\n",
    "print(ret)\n",
    "# print(response.status_code)\n",
    "# print(response.content)\n",
    "# print(ret.content)\n",
    "f = open(\"333.mp3\", \"wb\")\n",
    "f.write(ret.content)\n",
    "f.close()"
   ]
  },
  {
   "cell_type": "code",
   "execution_count": 20,
   "id": "21170e72-3d0b-4644-874f-a76ee48ae8b1",
   "metadata": {},
   "outputs": [
    {
     "name": "stderr",
     "output_type": "stream",
     "text": [
      "playsound is relying on another python subprocess. Please use `pip install pygobject` if you want playsound to run more efficiently.\n"
     ]
    }
   ],
   "source": [
    "from playsound import playsound\n",
    " \n",
    "playsound(\"333.mp3\")"
   ]
  },
  {
   "cell_type": "code",
   "execution_count": 19,
   "id": "59f2e494-b788-41af-b08e-73f200311c70",
   "metadata": {},
   "outputs": [
    {
     "name": "stdout",
     "output_type": "stream",
     "text": [
      "Looking in indexes: https://mirrors.aliyun.com/pypi/simple/\n",
      "Collecting playsound\n",
      "  Downloading https://mirrors.aliyun.com/pypi/packages/67/8c/c9f46b4b194126c4abb12e96321a6bea5c8dcc5c0e4d97622c14dfabe299/playsound-1.3.0.tar.gz (7.7 kB)\n",
      "  Preparing metadata (setup.py) ... \u001b[?25ldone\n",
      "\u001b[?25hBuilding wheels for collected packages: playsound\n",
      "  Building wheel for playsound (setup.py) ... \u001b[?25ldone\n",
      "\u001b[?25h  Created wheel for playsound: filename=playsound-1.3.0-py3-none-any.whl size=7020 sha256=39bba2e94c39d8413e1c80e9c596c084db87bf989441e59f8e5258d6c8f1bd1f\n",
      "  Stored in directory: /media/walter/work/chen.liu/.cache/pip/wheels/ca/b6/48/d35d4650132dd86075bbdf48c5d6d0963ca8e9521f6376e324\n",
      "Successfully built playsound\n",
      "Installing collected packages: playsound\n",
      "Successfully installed playsound-1.3.0\n"
     ]
    }
   ],
   "source": [
    "!pip install playsound"
   ]
  }
 ],
 "metadata": {
  "kernelspec": {
   "display_name": "Python 3 (ipykernel)",
   "language": "python",
   "name": "python3"
  },
  "language_info": {
   "codemirror_mode": {
    "name": "ipython",
    "version": 3
   },
   "file_extension": ".py",
   "mimetype": "text/x-python",
   "name": "python",
   "nbconvert_exporter": "python",
   "pygments_lexer": "ipython3",
   "version": "3.9.13"
  }
 },
 "nbformat": 4,
 "nbformat_minor": 5
}
